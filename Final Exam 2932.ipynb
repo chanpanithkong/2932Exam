{
 "cells": [
  {
   "cell_type": "markdown",
   "id": "87058543",
   "metadata": {},
   "source": [
    "# Final Exam 29-32 Weekends"
   ]
  },
  {
   "cell_type": "markdown",
   "id": "9c37d580",
   "metadata": {},
   "source": [
    "# Phak Mengheang"
   ]
  },
  {
   "cell_type": "markdown",
   "id": "f60eb306",
   "metadata": {},
   "source": [
    "1. write function to return two result of odd and even num of list below\n",
    "    - list of values from 20-100\n",
    "    - [2,4,6,8,9,10]\n",
    "    - [1,2,3,5,7,9]\n",
    "    - [0]\n",
    "    - [1]"
   ]
  },
  {
   "cell_type": "code",
   "execution_count": 10,
   "id": "29ee42b8",
   "metadata": {},
   "outputs": [
    {
     "name": "stdout",
     "output_type": "stream",
     "text": [
      "List: [20, 21, 22, 23, 24, 25, 26, 27, 28, 29, 30, 31, 32, 33, 34, 35, 36, 37, 38, 39, 40, 41, 42, 43, 44, 45, 46, 47, 48, 49, 50, 51, 52, 53, 54, 55, 56, 57, 58, 59, 60, 61, 62, 63, 64, 65, 66, 67, 68, 69, 70, 71, 72, 73, 74, 75, 76, 77, 78, 79, 80, 81, 82, 83, 84, 85, 86, 87, 88, 89, 90, 91, 92, 93, 94, 95, 96, 97, 98, 99, 100]\n",
      "Odd: [21, 23, 25, 27, 29, 31, 33, 35, 37, 39, 41, 43, 45, 47, 49, 51, 53, 55, 57, 59, 61, 63, 65, 67, 69, 71, 73, 75, 77, 79, 81, 83, 85, 87, 89, 91, 93, 95, 97, 99]\n",
      "Even: [20, 22, 24, 26, 28, 30, 32, 34, 36, 38, 40, 42, 44, 46, 48, 50, 52, 54, 56, 58, 60, 62, 64, 66, 68, 70, 72, 74, 76, 78, 80, 82, 84, 86, 88, 90, 92, 94, 96, 98, 100]\n",
      "\n",
      "List: [2, 4, 6, 8, 9, 10]\n",
      "Odd: [9]\n",
      "Even: [2, 4, 6, 8, 10]\n",
      "\n",
      "List: [1, 2, 3, 5, 7, 9]\n",
      "Odd: [1, 3, 5, 7, 9]\n",
      "Even: [2]\n",
      "\n",
      "List: [0]\n",
      "Odd: []\n",
      "Even: [0]\n",
      "\n",
      "List: [1]\n",
      "Odd: [1]\n",
      "Even: []\n",
      "\n"
     ]
    }
   ],
   "source": [
    "test_lists = [\n",
    "    list(range(20, 101)),\n",
    "    [2, 4, 6, 8, 9, 10],\n",
    "    [1, 2, 3, 5, 7, 9],\n",
    "    [0],\n",
    "    [1]\n",
    "]\n",
    "def getOddEvenFromList(lst):\n",
    "    odd_numbers = []\n",
    "    even_numbers = []\n",
    "    for num in lst:\n",
    "        if num % 2 == 0:\n",
    "            even_numbers.append(num)\n",
    "        else:\n",
    "            odd_numbers.append(num)\n",
    "    return odd_numbers, even_numbers\n",
    "\n",
    "for test_list in test_lists:\n",
    "    odd, even = getOddEvenFromList(test_list)\n",
    "    print(f\"List: {test_list}\")\n",
    "    print(f\"Odd: {odd}\")\n",
    "    print(f\"Even: {even}\")\n",
    "    print()"
   ]
  },
  {
   "cell_type": "markdown",
   "id": "c24fb1ef",
   "metadata": {},
   "source": [
    "2. write function to reverse string below\n",
    "    - James => semaJ\n",
    "    - Cambodia => aidobmaC\n",
    "    - National University of Management => tnemeganaM fo ytisrevinU lanoitaN"
   ]
  },
  {
   "cell_type": "code",
   "execution_count": 11,
   "id": "69eaf040",
   "metadata": {},
   "outputs": [
    {
     "name": "stdout",
     "output_type": "stream",
     "text": [
      "String: James\n",
      "Reversed: semaJ\n",
      "\n",
      "String: Cambodia\n",
      "Reversed: aidobmaC\n",
      "\n",
      "String: National University of Management\n",
      "Reversed: tnemeganaM fo ytisrevinU lanoitaN\n",
      "\n"
     ]
    }
   ],
   "source": [
    "test_strings = [\n",
    "    \"James\",\n",
    "    \"Cambodia\",\n",
    "    \"National University of Management\"\n",
    "]\n",
    "\n",
    "def getReverseString(st):\n",
    "    return st[::-1]\n",
    "\n",
    "for test_string in test_strings:\n",
    "    print(f\"String: {test_string}\")\n",
    "    print(f\"Reversed: {getReverseString(test_string)}\")\n",
    "    print()"
   ]
  },
  {
   "cell_type": "markdown",
   "id": "9d36b113",
   "metadata": {},
   "source": [
    "3. write function to generate list of value below\n",
    "    - All odd number from 20-100\n",
    "    - All Even number from 20-100\n",
    "    - All Prime number from 20-100\n",
    "    - All can divid by 5 from 20-100"
   ]
  },
  {
   "cell_type": "code",
   "execution_count": 12,
   "id": "8d087d84",
   "metadata": {},
   "outputs": [
    {
     "name": "stdout",
     "output_type": "stream",
     "text": [
      "Odd Numbers from 20 to 100:\n",
      "[21, 23, 25, 27, 29, 31, 33, 35, 37, 39, 41, 43, 45, 47, 49, 51, 53, 55, 57, 59, 61, 63, 65, 67, 69, 71, 73, 75, 77, 79, 81, 83, 85, 87, 89, 91, 93, 95, 97, 99]\n",
      "\n",
      "Even Numbers from 20 to 100:\n",
      "[20, 22, 24, 26, 28, 30, 32, 34, 36, 38, 40, 42, 44, 46, 48, 50, 52, 54, 56, 58, 60, 62, 64, 66, 68, 70, 72, 74, 76, 78, 80, 82, 84, 86, 88, 90, 92, 94, 96, 98, 100]\n",
      "\n",
      "Prime Numbers from 20 to 100:\n",
      "[23, 29, 31, 37, 41, 43, 47, 53, 59, 61, 67, 71, 73, 79, 83, 89, 97]\n",
      "\n",
      "Divisible_by_5 Numbers from 20 to 100:\n",
      "[20, 25, 30, 35, 40, 45, 50, 55, 60, 65, 70, 75, 80, 85, 90, 95, 100]\n",
      "\n"
     ]
    }
   ],
   "source": [
    "def doGenerateValues(lst):\n",
    "    results = []\n",
    "    for criteria in lst:\n",
    "        if criteria == \"odd\":\n",
    "            results.append([num for num in range(20, 101) if num % 2 != 0])\n",
    "        elif criteria == \"even\":\n",
    "            results.append([num for num in range(20, 101) if num % 2 == 0])\n",
    "        elif criteria == \"prime\":\n",
    "            def is_prime(n):\n",
    "                if n <= 1:\n",
    "                    return False\n",
    "                if n <= 3:\n",
    "                    return True\n",
    "                if n % 2 == 0 or n % 3 == 0:\n",
    "                    return False\n",
    "                i = 5\n",
    "                while i * i <= n:\n",
    "                    if n % i == 0 or n % (i + 2) == 0:\n",
    "                        return False\n",
    "                    i += 6\n",
    "                return True\n",
    "\n",
    "            results.append([num for num in range(20, 101) if is_prime(num)])\n",
    "        elif criteria == \"divisible_by_5\":\n",
    "            results.append([num for num in range(20, 101) if num % 5 == 0])\n",
    "        else:\n",
    "            results.append([])\n",
    "    return results\n",
    "\n",
    "# Test the function\n",
    "criteria_list = [\"odd\", \"even\", \"prime\", \"divisible_by_5\"]\n",
    "generated_values = doGenerateValues(criteria_list)\n",
    "\n",
    "# Print the results nicely formatted\n",
    "for i, criteria in enumerate(criteria_list):\n",
    "    print(f\"{criteria.capitalize()} Numbers from 20 to 100:\")\n",
    "    print(generated_values[i])\n",
    "    print()"
   ]
  },
  {
   "cell_type": "markdown",
   "id": "9e4d9ef8",
   "metadata": {},
   "source": [
    "4. write function to get middle of string and revease of length is even number\n",
    "    - ABCDEF => DC\n",
    "    - ABCDE => C"
   ]
  },
  {
   "cell_type": "code",
   "execution_count": 13,
   "id": "2506db04",
   "metadata": {},
   "outputs": [
    {
     "name": "stdout",
     "output_type": "stream",
     "text": [
      "ABCDEF => DC\n",
      "ABCDE => C\n"
     ]
    }
   ],
   "source": [
    "def getMiddleString(st):\n",
    "    length = len(st)\n",
    "    middle_index = length // 2\n",
    "    \n",
    "    if length % 2 == 0:  \n",
    "        return st[middle_index - 1:middle_index + 1][::-1]\n",
    "    else:  \n",
    "        return st[middle_index]\n",
    "\n",
    "\n",
    "test_strings = [\"ABCDEF\", \"ABCDE\"]\n",
    "\n",
    "for test_str in test_strings:\n",
    "    print(f\"{test_str} => {getMiddleString(test_str)}\")\n"
   ]
  },
  {
   "cell_type": "markdown",
   "id": "8caae9c4",
   "metadata": {},
   "source": [
    "5. write function to add value to middle of string if length of string is even and otherwise remove value in the middle\n",
    "    - NUM => NM\n",
    "    - NUME => NUAME"
   ]
  },
  {
   "cell_type": "code",
   "execution_count": 14,
   "id": "2052c8b6",
   "metadata": {},
   "outputs": [
    {
     "name": "stdout",
     "output_type": "stream",
     "text": [
      "NUAME\n"
     ]
    }
   ],
   "source": [
    "def addValueToMiddle(value):\n",
    "    input_str = \"NUME\"  \n",
    "    length = len(input_str)\n",
    "    middle_index = length // 2\n",
    "    \n",
    "    if length % 2 == 0:  \n",
    "        return input_str[:middle_index] + value + input_str[middle_index:]\n",
    "    else:  \n",
    "        return input_str[:middle_index] + value + input_str[middle_index:]\n",
    "\n",
    "# Test the function\n",
    "value_to_add = \"A\"\n",
    "print(addValueToMiddle(value_to_add))\n"
   ]
  },
  {
   "cell_type": "markdown",
   "id": "bf15ff32",
   "metadata": {},
   "source": [
    "# Working with Numpy Array"
   ]
  },
  {
   "cell_type": "markdown",
   "id": "d7333a33",
   "metadata": {},
   "source": [
    "1. create numpy array of 100 values with 0"
   ]
  },
  {
   "cell_type": "code",
   "execution_count": 15,
   "id": "e966e321",
   "metadata": {},
   "outputs": [
    {
     "data": {
      "text/plain": [
       "array([0., 0., 0., 0., 0., 0., 0., 0., 0., 0., 0., 0., 0., 0., 0., 0., 0.,\n",
       "       0., 0., 0., 0., 0., 0., 0., 0., 0., 0., 0., 0., 0., 0., 0., 0., 0.,\n",
       "       0., 0., 0., 0., 0., 0., 0., 0., 0., 0., 0., 0., 0., 0., 0., 0., 0.,\n",
       "       0., 0., 0., 0., 0., 0., 0., 0., 0., 0., 0., 0., 0., 0., 0., 0., 0.,\n",
       "       0., 0., 0., 0., 0., 0., 0., 0., 0., 0., 0., 0., 0., 0., 0., 0., 0.,\n",
       "       0., 0., 0., 0., 0., 0., 0., 0., 0., 0., 0., 0., 0., 0., 0.])"
      ]
     },
     "execution_count": 15,
     "metadata": {},
     "output_type": "execute_result"
    }
   ],
   "source": [
    "\n",
    "import numpy as np\n",
    "np.zeros(100)\n",
    "\n"
   ]
  },
  {
   "cell_type": "markdown",
   "id": "dd344cf9",
   "metadata": {},
   "source": [
    "2. create numpy array of 100 values with 1"
   ]
  },
  {
   "cell_type": "code",
   "execution_count": 16,
   "id": "e451481a",
   "metadata": {},
   "outputs": [
    {
     "data": {
      "text/plain": [
       "array([1., 1., 1., 1., 1., 1., 1., 1., 1., 1., 1., 1., 1., 1., 1., 1., 1.,\n",
       "       1., 1., 1., 1., 1., 1., 1., 1., 1., 1., 1., 1., 1., 1., 1., 1., 1.,\n",
       "       1., 1., 1., 1., 1., 1., 1., 1., 1., 1., 1., 1., 1., 1., 1., 1., 1.,\n",
       "       1., 1., 1., 1., 1., 1., 1., 1., 1., 1., 1., 1., 1., 1., 1., 1., 1.,\n",
       "       1., 1., 1., 1., 1., 1., 1., 1., 1., 1., 1., 1., 1., 1., 1., 1., 1.,\n",
       "       1., 1., 1., 1., 1., 1., 1., 1., 1., 1., 1., 1., 1., 1., 1.])"
      ]
     },
     "execution_count": 16,
     "metadata": {},
     "output_type": "execute_result"
    }
   ],
   "source": [
    "import numpy as np\n",
    "\n",
    "np.ones(100)\n",
    "\n"
   ]
  },
  {
   "cell_type": "markdown",
   "id": "24822c16",
   "metadata": {},
   "source": [
    "3. create numpy array of 100 values with 7"
   ]
  },
  {
   "cell_type": "code",
   "execution_count": 17,
   "id": "65626cea",
   "metadata": {},
   "outputs": [
    {
     "data": {
      "text/plain": [
       "array([7, 7, 7, 7, 7, 7, 7, 7, 7, 7, 7, 7, 7, 7, 7, 7, 7, 7, 7, 7, 7, 7,\n",
       "       7, 7, 7, 7, 7, 7, 7, 7, 7, 7, 7, 7, 7, 7, 7, 7, 7, 7, 7, 7, 7, 7,\n",
       "       7, 7, 7, 7, 7, 7, 7, 7, 7, 7, 7, 7, 7, 7, 7, 7, 7, 7, 7, 7, 7, 7,\n",
       "       7, 7, 7, 7, 7, 7, 7, 7, 7, 7, 7, 7, 7, 7, 7, 7, 7, 7, 7, 7, 7, 7,\n",
       "       7, 7, 7, 7, 7, 7, 7, 7, 7, 7, 7, 7])"
      ]
     },
     "execution_count": 17,
     "metadata": {},
     "output_type": "execute_result"
    }
   ],
   "source": [
    "import numpy as np\n",
    "\n",
    "np.full(100, 7)\n",
    "\n"
   ]
  },
  {
   "cell_type": "markdown",
   "id": "0a0265f3",
   "metadata": {},
   "source": [
    "4. create numpy array of value range from 20-100"
   ]
  },
  {
   "cell_type": "code",
   "execution_count": 18,
   "id": "e03d818f",
   "metadata": {},
   "outputs": [
    {
     "data": {
      "text/plain": [
       "array([ 20,  21,  22,  23,  24,  25,  26,  27,  28,  29,  30,  31,  32,\n",
       "        33,  34,  35,  36,  37,  38,  39,  40,  41,  42,  43,  44,  45,\n",
       "        46,  47,  48,  49,  50,  51,  52,  53,  54,  55,  56,  57,  58,\n",
       "        59,  60,  61,  62,  63,  64,  65,  66,  67,  68,  69,  70,  71,\n",
       "        72,  73,  74,  75,  76,  77,  78,  79,  80,  81,  82,  83,  84,\n",
       "        85,  86,  87,  88,  89,  90,  91,  92,  93,  94,  95,  96,  97,\n",
       "        98,  99, 100])"
      ]
     },
     "execution_count": 18,
     "metadata": {},
     "output_type": "execute_result"
    }
   ],
   "source": [
    "import numpy as np\n",
    "np.arange(20, 101)\n",
    "\n"
   ]
  },
  {
   "cell_type": "markdown",
   "id": "49076e35",
   "metadata": {},
   "source": [
    "5. create numpy array of identity 5x5"
   ]
  },
  {
   "cell_type": "code",
   "execution_count": 19,
   "id": "d247a568",
   "metadata": {},
   "outputs": [
    {
     "data": {
      "text/plain": [
       "array([[1., 0., 0., 0., 0.],\n",
       "       [0., 1., 0., 0., 0.],\n",
       "       [0., 0., 1., 0., 0.],\n",
       "       [0., 0., 0., 1., 0.],\n",
       "       [0., 0., 0., 0., 1.]])"
      ]
     },
     "execution_count": 19,
     "metadata": {},
     "output_type": "execute_result"
    }
   ],
   "source": [
    "\n",
    "import numpy as np\n",
    "\n",
    "np.eye(5)\n",
    "\n"
   ]
  },
  {
   "cell_type": "markdown",
   "id": "044cf10a",
   "metadata": {},
   "source": [
    "6. resahpe below array to 5x3"
   ]
  },
  {
   "cell_type": "code",
   "execution_count": 20,
   "id": "b88eb504",
   "metadata": {},
   "outputs": [
    {
     "name": "stdout",
     "output_type": "stream",
     "text": [
      "[ 0  1  2  3  4  5  6  7  8  9 10 11 12 13 14]\n"
     ]
    }
   ],
   "source": [
    "import numpy as np\n",
    "\n",
    "original_array = np.array([0, 1, 2, 3, 4, 5, 6, 7, 8, 9, 10, 11, 12, 13, 14])\n",
    "\n",
    "print(original_array)\n"
   ]
  },
  {
   "cell_type": "code",
   "execution_count": 21,
   "id": "35152096",
   "metadata": {},
   "outputs": [
    {
     "name": "stdout",
     "output_type": "stream",
     "text": [
      "[[ 0  1  2]\n",
      " [ 3  4  5]\n",
      " [ 6  7  8]\n",
      " [ 9 10 11]\n",
      " [12 13 14]]\n"
     ]
    }
   ],
   "source": [
    "reshaped_array = original_array.reshape(5, 3)\n",
    "\n",
    "print(reshaped_array)"
   ]
  },
  {
   "cell_type": "markdown",
   "id": "faf1f747",
   "metadata": {},
   "source": [
    "7. slicing array"
   ]
  },
  {
   "cell_type": "code",
   "execution_count": 22,
   "id": "a7dcc989",
   "metadata": {},
   "outputs": [
    {
     "name": "stdout",
     "output_type": "stream",
     "text": [
      "[[ 1  2  3  4  5]\n",
      " [ 6  7  8  9 10]\n",
      " [11 12 13 14 15]\n",
      " [16 17 18 19 20]\n",
      " [21 22 23 24 25]]\n"
     ]
    }
   ],
   "source": [
    "import numpy as np\n",
    "\n",
    "given_array = np.array([[1, 2, 3, 4, 5],\n",
    "                        [6, 7, 8, 9, 10],\n",
    "                        [11, 12, 13, 14, 15],\n",
    "                        [16, 17, 18, 19, 20],\n",
    "                        [21, 22, 23, 24, 25]])\n",
    "print(given_array)"
   ]
  },
  {
   "cell_type": "markdown",
   "id": "65212746",
   "metadata": {},
   "source": [
    "8. slicing array"
   ]
  },
  {
   "cell_type": "code",
   "execution_count": 23,
   "id": "ad12e291",
   "metadata": {},
   "outputs": [
    {
     "name": "stdout",
     "output_type": "stream",
     "text": [
      "[[ 2]\n",
      " [ 7]\n",
      " [12]\n",
      " [17]\n",
      " [22]]\n"
     ]
    }
   ],
   "source": [
    "sliced_array = given_array[:, 1:2]\n",
    "\n",
    "print(sliced_array)\n"
   ]
  },
  {
   "cell_type": "markdown",
   "id": "bfed7fe0",
   "metadata": {},
   "source": [
    "9. slicing array"
   ]
  },
  {
   "cell_type": "code",
   "execution_count": 24,
   "id": "a802dc1b",
   "metadata": {},
   "outputs": [
    {
     "name": "stdout",
     "output_type": "stream",
     "text": [
      "[[7 8 9]]\n"
     ]
    }
   ],
   "source": [
    "sliced_array = given_array[1:2, 1:4]\n",
    "\n",
    "print(sliced_array)"
   ]
  },
  {
   "cell_type": "markdown",
   "id": "60afaa91",
   "metadata": {},
   "source": [
    "10. slicing array and transpose "
   ]
  },
  {
   "cell_type": "code",
   "execution_count": 35,
   "id": "da0c4ec6",
   "metadata": {},
   "outputs": [
    {
     "name": "stdout",
     "output_type": "stream",
     "text": [
      "[ 7 12 17]\n"
     ]
    }
   ],
   "source": [
    "sliced_array = given_array[1:4, 1:2].flatten()\n",
    "print(sliced_array)"
   ]
  },
  {
   "cell_type": "markdown",
   "id": "64b27594",
   "metadata": {},
   "source": [
    "11. slicing array and revease"
   ]
  },
  {
   "cell_type": "code",
   "execution_count": 26,
   "id": "effcd561",
   "metadata": {},
   "outputs": [
    {
     "name": "stdout",
     "output_type": "stream",
     "text": [
      "[[15 14 13 12 11]]\n"
     ]
    }
   ],
   "source": [
    "sliced_and_reversed_array = given_array[2:3, ::-1]\n",
    "print(sliced_and_reversed_array)"
   ]
  },
  {
   "cell_type": "markdown",
   "id": "758251a5",
   "metadata": {},
   "source": [
    "12. slicing array"
   ]
  },
  {
   "cell_type": "code",
   "execution_count": 27,
   "id": "9a29a538",
   "metadata": {},
   "outputs": [
    {
     "name": "stdout",
     "output_type": "stream",
     "text": [
      "[[ 7  8  9]\n",
      " [12 13 14]\n",
      " [17 18 19]]\n"
     ]
    }
   ],
   "source": [
    "sliced_array = given_array[1:4, 1:4]\n",
    "print(sliced_array)"
   ]
  },
  {
   "cell_type": "markdown",
   "id": "32129804",
   "metadata": {},
   "source": [
    "13. create numpy array 10x10 with random value"
   ]
  },
  {
   "cell_type": "code",
   "execution_count": 28,
   "id": "415a84cc",
   "metadata": {},
   "outputs": [
    {
     "name": "stdout",
     "output_type": "stream",
     "text": [
      "[[ 2 11 86 14 52 68 57 27 43 17]\n",
      " [22 96  5 38 21 11  7 87 56 24]\n",
      " [35 73 87 76 63 29 92 52 38 46]\n",
      " [24 89  9 61 14 47 96 68 85 68]\n",
      " [30 87 24 21 49  2 86  5 54 28]\n",
      " [61 89  2 14 24 49 56 53 38 77]\n",
      " [51 61 46 62 62 93 59 92  8 94]\n",
      " [92 18 25 73 75 13 21 59 25 34]\n",
      " [59 63 99 81 69 62 92 37 19  4]\n",
      " [34 73 77 19 52 12 66  0 72 77]]\n"
     ]
    }
   ],
   "source": [
    "random_array = np.random.randint(0, 101, (10, 10))\n",
    "\n",
    "print(random_array)"
   ]
  },
  {
   "cell_type": "markdown",
   "id": "d23d73fc",
   "metadata": {},
   "source": [
    "14. create two numpy array and multiply\n",
    "    - a : numpy array must range from 1-10\n",
    "    - b : numpy array must range from 11-20"
   ]
  },
  {
   "cell_type": "code",
   "execution_count": 34,
   "id": "c6107fc6",
   "metadata": {},
   "outputs": [
    {
     "name": "stdout",
     "output_type": "stream",
     "text": [
      "[[ 90  96 102]\n",
      " [216 231 246]\n",
      " [342 366 390]]\n"
     ]
    }
   ],
   "source": [
    "\n",
    "a = np.arange(1, 10).reshape(3,3)\n",
    "b = np.arange(11, 20).reshape(3,3) \n",
    "\n",
    "answer = np.dot(a, b)\n",
    "print(answer)\n",
    "\n"
   ]
  },
  {
   "cell_type": "code",
   "execution_count": 33,
   "id": "cbff7e20",
   "metadata": {},
   "outputs": [
    {
     "data": {
      "text/plain": [
       "array([ 2,  7, 12, 17, 22])"
      ]
     },
     "execution_count": 33,
     "metadata": {},
     "output_type": "execute_result"
    }
   ],
   "source": [
    "given_array[:, 1:2].flatten()\n"
   ]
  },
  {
   "cell_type": "markdown",
   "id": "b26dac0e",
   "metadata": {},
   "source": [
    "15. Create three dimension numpy array below"
   ]
  },
  {
   "cell_type": "code",
   "execution_count": 31,
   "id": "e4fdcf81",
   "metadata": {},
   "outputs": [
    {
     "data": {
      "text/plain": [
       "array([[[ 1,  2,  3],\n",
       "        [ 4,  5,  6]],\n",
       "\n",
       "       [[ 7,  8,  9],\n",
       "        [10, 11, 12]]])"
      ]
     },
     "execution_count": 31,
     "metadata": {},
     "output_type": "execute_result"
    }
   ],
   "source": [
    "np.array([[[1, 2, 3], [4, 5, 6]], [[7, 8, 9], [10, 11, 12]]])\n"
   ]
  },
  {
   "cell_type": "code",
   "execution_count": null,
   "id": "0b6c1698",
   "metadata": {},
   "outputs": [],
   "source": []
  }
 ],
 "metadata": {
  "kernelspec": {
   "display_name": "Python 3 (ipykernel)",
   "language": "python",
   "name": "python3"
  },
  "language_info": {
   "codemirror_mode": {
    "name": "ipython",
    "version": 3
   },
   "file_extension": ".py",
   "mimetype": "text/x-python",
   "name": "python",
   "nbconvert_exporter": "python",
   "pygments_lexer": "ipython3",
   "version": "3.11.5"
  }
 },
 "nbformat": 4,
 "nbformat_minor": 5
}
