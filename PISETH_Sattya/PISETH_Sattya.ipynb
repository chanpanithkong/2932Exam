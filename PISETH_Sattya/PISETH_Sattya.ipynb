{
 "cells": [
  {
   "cell_type": "markdown",
   "id": "87058543",
   "metadata": {},
   "source": [
    "# Final Exam 29-32 Weekends"
   ]
  },
  {
   "cell_type": "markdown",
   "id": "f60eb306",
   "metadata": {},
   "source": [
    "1. write function to return two result of odd and even num of list below\n",
    "    - list of values from 20-100\n",
    "    - [2,4,6,8,9,10]\n",
    "    - [1,2,3,5,7,9]\n",
    "    - [0]\n",
    "    - [1]"
   ]
  },
  {
   "cell_type": "code",
   "execution_count": 97,
   "id": "29ee42b8",
   "metadata": {},
   "outputs": [
    {
     "name": "stdout",
     "output_type": "stream",
     "text": [
      "Original list: range(20, 101)\n",
      "Even numbers: [20, 22, 24, 26, 28, 30, 32, 34, 36, 38, 40, 42, 44, 46, 48, 50, 52, 54, 56, 58, 60, 62, 64, 66, 68, 70, 72, 74, 76, 78, 80, 82, 84, 86, 88, 90, 92, 94, 96, 98, 100]\n",
      "Odd numbers: [21, 23, 25, 27, 29, 31, 33, 35, 37, 39, 41, 43, 45, 47, 49, 51, 53, 55, 57, 59, 61, 63, 65, 67, 69, 71, 73, 75, 77, 79, 81, 83, 85, 87, 89, 91, 93, 95, 97, 99]\n",
      "\n"
     ]
    }
   ],
   "source": [
    "def separate_odd_even(numbers):\n",
    "  even_numbers = []\n",
    "  odd_numbers = []\n",
    "\n",
    "  for num in numbers:\n",
    "    if num % 2 == 0:\n",
    "      even_numbers.append(num)\n",
    "    else:\n",
    "      odd_numbers.append(num)\n",
    "  return even_numbers, odd_numbers\n",
    "\n",
    "for numbers in [list1]:\n",
    "  even_numbers, odd_numbers = separate_odd_even(numbers)\n",
    "  print(f\"Original list: {numbers}\")\n",
    "  print(f\"Even numbers: {even_numbers}\")\n",
    "  print(f\"Odd numbers: {odd_numbers}\")\n",
    "  print()\n"
   ]
  },
  {
   "cell_type": "markdown",
   "id": "c24fb1ef",
   "metadata": {},
   "source": [
    "2. write function to reverse string below\n",
    "    - James => semaJ\n",
    "    - Cambodia => aidobmaC\n",
    "    - National University of Management => tnemeganaM fo ytisrevinU lanoitaN"
   ]
  },
  {
   "cell_type": "code",
   "execution_count": 98,
   "id": "69eaf040",
   "metadata": {},
   "outputs": [
    {
     "name": "stdout",
     "output_type": "stream",
     "text": [
      "James -> semaJ\n",
      "Cambodia -> aidobmaC\n",
      "National University of Management -> tnemeganaM fo ytisrevinU lanoitaN\n"
     ]
    }
   ],
   "source": [
    "def reverse_string(text):\n",
    "\n",
    "  # Check if the input is a string\n",
    "  if not isinstance(text, str):\n",
    "    raise TypeError(\"Input must be a string.\")\n",
    "\n",
    "  # Handle empty string or whitespace-only string\n",
    "  if not text.strip():\n",
    "    return text\n",
    "\n",
    "  # Use slicing for efficient reversal\n",
    "  return text[::-1]\n",
    "\n",
    "# Test cases\n",
    "strings = [\"James\", \"Cambodia\", \"National University of Management\"]\n",
    "for text in strings:\n",
    "  reversed_text = reverse_string(text)\n",
    "\n",
    "  print(f\"{text} -> {reversed_text}\")"
   ]
  },
  {
   "cell_type": "markdown",
   "id": "9d36b113",
   "metadata": {},
   "source": [
    "3. write function to generate list of value below\n",
    "    - All odd number from 20-100\n",
    "    - All Even number from 20-100\n",
    "    - All Prime number from 20-100\n",
    "    - All can divid by 5 from 20-100"
   ]
  },
  {
   "cell_type": "code",
   "execution_count": 99,
   "id": "8d087d84",
   "metadata": {},
   "outputs": [
    {
     "name": "stdout",
     "output_type": "stream",
     "text": [
      "odd_numbers: [21, 23, 25, 27, 29, 31, 33, 35, 37, 39, 41, 43, 45, 47, 49, 51, 53, 55, 57, 59, 61, 63, 65, 67, 69, 71, 73, 75, 77, 79, 81, 83, 85, 87, 89, 91, 93, 95, 97, 99]\n",
      "even_numbers: [20, 22, 24, 26, 28, 30, 32, 34, 36, 38, 40, 42, 44, 46, 48, 50, 52, 54, 56, 58, 60, 62, 64, 66, 68, 70, 72, 74, 76, 78, 80, 82, 84, 86, 88, 90, 92, 94, 96, 98, 100]\n",
      "prime_numbers: [20, 22, 23, 26, 28, 29, 31, 32, 34, 37, 38, 41, 43, 44, 46, 47, 52, 53, 58, 59, 61, 62, 64, 67, 68, 71, 73, 74, 76, 79, 82, 83, 86, 88, 89, 92, 94, 97]\n",
      "divide_by_5: [20, 25, 30, 35, 40, 45, 50, 55, 60, 65, 70, 75, 80, 85, 90, 95, 100]\n"
     ]
    }
   ],
   "source": [
    "def generate_number_lists(start, end):\n",
    "  odd_numbers = []\n",
    "  even_numbers = []\n",
    "  prime_numbers = []\n",
    "  divide_by_5 = []\n",
    "\n",
    "  for num in range(start, end + 1):\n",
    "    if num % 2 == 0:\n",
    "      even_numbers.append(num)\n",
    "    else:\n",
    "      odd_numbers.append(num)\n",
    "\n",
    "    # Check condition\n",
    "    if num > 2 and all(num % i != 0 for i in range(3, int(num**0.5) + 1, 2)):\n",
    "      prime_numbers.append(num)\n",
    "\n",
    "    if num % 5 == 0:\n",
    "      divide_by_5.append(num)\n",
    "\n",
    "  return {\n",
    "      \"odd_numbers\": odd_numbers,\n",
    "      \"even_numbers\": even_numbers,\n",
    "      \"prime_numbers\": prime_numbers,\n",
    "      \"divide_by_5\": divide_by_5,\n",
    "  }\n",
    "\n",
    "#print the lists\n",
    "number_lists = generate_number_lists(20, 100)\n",
    "for key, value in number_lists.items():\n",
    "  print(f\"{key}: {value}\")"
   ]
  },
  {
   "cell_type": "markdown",
   "id": "9e4d9ef8",
   "metadata": {},
   "source": [
    "4. write function to get middle of string and revease of length is even number\n",
    "    - ABCDEF => DC\n",
    "    - ABCDE => C"
   ]
  },
  {
   "cell_type": "code",
   "execution_count": 100,
   "id": "2506db04",
   "metadata": {},
   "outputs": [
    {
     "name": "stdout",
     "output_type": "stream",
     "text": [
      "Original string: ABCDEF\n",
      "Middle character(s): DC\n",
      "\n",
      "Original string: ABCDE\n",
      "Middle character(s): C\n",
      "\n"
     ]
    }
   ],
   "source": [
    "def get_middle_of_string(text):\n",
    "  if not text:\n",
    "    return \"\"\n",
    "\n",
    "  mid_index = len(text) // 2\n",
    "  if len(text) % 2 == 0:\n",
    "    return text[mid_index - 1:mid_index + 1][::-1]\n",
    "  else:\n",
    "    return text[mid_index]\n",
    "\n",
    "# print\n",
    "strings = [\"ABCDEF\", \"ABCDE\"]\n",
    "for text in strings:\n",
    "  middle = get_middle_of_string(text)\n",
    "  print(f\"Original string: {text}\")\n",
    "  print(f\"Middle character(s): {middle}\")\n",
    "  print()"
   ]
  },
  {
   "cell_type": "markdown",
   "id": "8caae9c4",
   "metadata": {},
   "source": [
    "5. write function to add value to middle of string if length of string is even and otherwise remove value in the middle\n",
    "    - NUM => NM\n",
    "    - NUME => NUAME"
   ]
  },
  {
   "cell_type": "code",
   "execution_count": 101,
   "id": "2052c8b6",
   "metadata": {},
   "outputs": [
    {
     "name": "stdout",
     "output_type": "stream",
     "text": [
      "Original string: NUM\n",
      "Modified string: NM\n",
      "Original string: NUME\n",
      "Modified string: NUAE\n"
     ]
    }
   ],
   "source": [
    "def modify_middle_of_string(text, value):\n",
    "\n",
    "   if not text:\n",
    "       raise ValueError(\"Input string cannot be empty.\")\n",
    "   if not value:\n",
    "       raise ValueError(\"Value to add cannot be empty.\")\n",
    "\n",
    "   mid_index = len(text) // 2\n",
    "   if len(text) % 2 == 0:\n",
    "      \n",
    "       return text[:mid_index] + value + text[mid_index + 1:][::-1]\n",
    "   else:\n",
    "       return text[:mid_index] + text[mid_index + 1:]\n",
    "\n",
    "strings = [\"NUM\", \"NUME\"]\n",
    "values = [\"M\", \"A\", \"\", \" \"]\n",
    "for text, value in zip(strings, values):\n",
    "       modified_text = modify_middle_of_string(text, value)\n",
    "       print(f\"Original string: {text}\")\n",
    "       print(f\"Modified string: {modified_text}\")\n"
   ]
  },
  {
   "cell_type": "markdown",
   "id": "bf15ff32",
   "metadata": {},
   "source": [
    "# Working with Numpy Array"
   ]
  },
  {
   "cell_type": "markdown",
   "id": "d7333a33",
   "metadata": {},
   "source": [
    "1. create numpy array of 100 values with 0"
   ]
  },
  {
   "cell_type": "code",
   "execution_count": 102,
   "id": "e966e321",
   "metadata": {},
   "outputs": [
    {
     "name": "stdout",
     "output_type": "stream",
     "text": [
      "[0 0 0 0 0 0 0 0 0 0 0 0 0 0 0 0 0 0 0 0 0 0 0 0 0 0 0 0 0 0 0 0 0 0 0 0 0\n",
      " 0 0 0 0 0 0 0 0 0 0 0 0 0 0 0 0 0 0 0 0 0 0 0 0 0 0 0 0 0 0 0 0 0 0 0 0 0\n",
      " 0 0 0 0 0 0 0 0 0 0 0 0 0 0 0 0 0 0 0 0 0 0 0 0 0 0]\n"
     ]
    }
   ],
   "source": [
    "import numpy as np\n",
    "array = np.array([0] * 100)\n",
    "print(array)"
   ]
  },
  {
   "cell_type": "markdown",
   "id": "dd344cf9",
   "metadata": {},
   "source": [
    "2. create numpy array of 100 values with 1"
   ]
  },
  {
   "cell_type": "code",
   "execution_count": 103,
   "id": "e451481a",
   "metadata": {},
   "outputs": [
    {
     "name": "stdout",
     "output_type": "stream",
     "text": [
      "[1 1 1 1 1 1 1 1 1 1 1 1 1 1 1 1 1 1 1 1 1 1 1 1 1 1 1 1 1 1 1 1 1 1 1 1 1\n",
      " 1 1 1 1 1 1 1 1 1 1 1 1 1 1 1 1 1 1 1 1 1 1 1 1 1 1 1 1 1 1 1 1 1 1 1 1 1\n",
      " 1 1 1 1 1 1 1 1 1 1 1 1 1 1 1 1 1 1 1 1 1 1 1 1 1 1]\n"
     ]
    }
   ],
   "source": [
    "array = np.array([1] * 100)\n",
    "print(array)"
   ]
  },
  {
   "cell_type": "markdown",
   "id": "24822c16",
   "metadata": {},
   "source": [
    "3. create numpy array of 100 values with 7"
   ]
  },
  {
   "cell_type": "code",
   "execution_count": 104,
   "id": "65626cea",
   "metadata": {},
   "outputs": [
    {
     "name": "stdout",
     "output_type": "stream",
     "text": [
      "[7 7 7 7 7 7 7 7 7 7 7 7 7 7 7 7 7 7 7 7 7 7 7 7 7 7 7 7 7 7 7 7 7 7 7 7 7\n",
      " 7 7 7 7 7 7 7 7 7 7 7 7 7 7 7 7 7 7 7 7 7 7 7 7 7 7 7 7 7 7 7 7 7 7 7 7 7\n",
      " 7 7 7 7 7 7 7 7 7 7 7 7 7 7 7 7 7 7 7 7 7 7 7 7 7 7]\n"
     ]
    }
   ],
   "source": [
    "array = np.array([7] * 100)\n",
    "print(array)"
   ]
  },
  {
   "cell_type": "markdown",
   "id": "0a0265f3",
   "metadata": {},
   "source": [
    "4. create numpy array of value range from 20-100"
   ]
  },
  {
   "cell_type": "code",
   "execution_count": 35,
   "id": "e03d818f",
   "metadata": {},
   "outputs": [
    {
     "name": "stdout",
     "output_type": "stream",
     "text": [
      "[ 20  21  22  23  24  25  26  27  28  29  30  31  32  33  34  35  36  37\n",
      "  38  39  40  41  42  43  44  45  46  47  48  49  50  51  52  53  54  55\n",
      "  56  57  58  59  60  61  62  63  64  65  66  67  68  69  70  71  72  73\n",
      "  74  75  76  77  78  79  80  81  82  83  84  85  86  87  88  89  90  91\n",
      "  92  93  94  95  96  97  98  99 100]\n"
     ]
    }
   ],
   "source": [
    "array = np.array([i for i in range(20, 101)])\n",
    "print(array)"
   ]
  },
  {
   "cell_type": "markdown",
   "id": "49076e35",
   "metadata": {},
   "source": [
    "5. create numpy array of identity 5x5"
   ]
  },
  {
   "cell_type": "code",
   "execution_count": 36,
   "id": "d247a568",
   "metadata": {},
   "outputs": [
    {
     "name": "stdout",
     "output_type": "stream",
     "text": [
      "[[1. 0. 0. 0. 0.]\n",
      " [0. 1. 0. 0. 0.]\n",
      " [0. 0. 1. 0. 0.]\n",
      " [0. 0. 0. 1. 0.]\n",
      " [0. 0. 0. 0. 1.]]\n"
     ]
    }
   ],
   "source": [
    "identity_matrix = np.zeros((5, 5))\n",
    "identity_matrix[[0, 1, 2, 3, 4], [0, 1, 2, 3, 4]] = 1\n",
    "print(identity_matrix)"
   ]
  },
  {
   "cell_type": "markdown",
   "id": "044cf10a",
   "metadata": {},
   "source": [
    "6. resahpe below array to 5x3"
   ]
  },
  {
   "cell_type": "code",
   "execution_count": 37,
   "id": "b88eb504",
   "metadata": {},
   "outputs": [
    {
     "name": "stdout",
     "output_type": "stream",
     "text": [
      "[[ 0  1  2]\n",
      " [ 3  4  5]\n",
      " [ 6  7  8]\n",
      " [ 9 10 11]\n",
      " [12 13 14]]\n"
     ]
    }
   ],
   "source": [
    "array = np.array([0, 1, 2, 3, 4, 5, 6, 7, 8, 9, 10, 11, 12, 13, 14])\n",
    "reshaped_array = np.reshape(array[:15], (5, 3))\n",
    "print(reshaped_array)"
   ]
  },
  {
   "cell_type": "markdown",
   "id": "faf1f747",
   "metadata": {},
   "source": [
    "7. slicing array"
   ]
  },
  {
   "cell_type": "code",
   "execution_count": 41,
   "id": "a7dcc989",
   "metadata": {},
   "outputs": [
    {
     "name": "stdout",
     "output_type": "stream",
     "text": [
      "[[ 1  2  3  4  5]\n",
      " [ 6  7  8  9 10]\n",
      " [11 12 13 14 15]\n",
      " [16 17 18 19 20]\n",
      " [21 22 23 24 25]]\n"
     ]
    }
   ],
   "source": [
    "array = np.array([[1, 2, 3, 4, 5],\n",
    "                  [6, 7, 8, 9, 10],\n",
    "                  [11, 12, 13, 14, 15],\n",
    "                  [16, 17, 18, 19, 20],\n",
    "                  [21, 22, 23, 24, 25]])\n",
    "print(array)"
   ]
  },
  {
   "cell_type": "markdown",
   "id": "65212746",
   "metadata": {},
   "source": [
    "8. slicing array"
   ]
  },
  {
   "cell_type": "code",
   "execution_count": 45,
   "id": "ad12e291",
   "metadata": {},
   "outputs": [
    {
     "name": "stdout",
     "output_type": "stream",
     "text": [
      "[[ 2]\n",
      " [ 7]\n",
      " [12]\n",
      " [17]\n",
      " [22]]\n"
     ]
    }
   ],
   "source": [
    "result = array[:, 1:2]\n",
    "\n",
    "print(result)\n"
   ]
  },
  {
   "cell_type": "markdown",
   "id": "bfed7fe0",
   "metadata": {},
   "source": [
    "9. slicing array"
   ]
  },
  {
   "cell_type": "code",
   "execution_count": 52,
   "id": "a802dc1b",
   "metadata": {},
   "outputs": [
    {
     "name": "stdout",
     "output_type": "stream",
     "text": [
      "[[7 8 9]]\n"
     ]
    }
   ],
   "source": [
    "result = array[1:2,1:4]\n",
    "print(result)"
   ]
  },
  {
   "cell_type": "markdown",
   "id": "60afaa91",
   "metadata": {},
   "source": [
    "10. slicing array and transpose "
   ]
  },
  {
   "cell_type": "code",
   "execution_count": 95,
   "id": "da0c4ec6",
   "metadata": {},
   "outputs": [
    {
     "name": "stdout",
     "output_type": "stream",
     "text": [
      "[ 7 12 17]\n"
     ]
    }
   ],
   "source": [
    "result = array[1:4, 1:2].flatten()\n",
    "print(result)"
   ]
  },
  {
   "cell_type": "markdown",
   "id": "64b27594",
   "metadata": {},
   "source": [
    "11. slicing array and revease"
   ]
  },
  {
   "cell_type": "code",
   "execution_count": 71,
   "id": "effcd561",
   "metadata": {},
   "outputs": [
    {
     "name": "stdout",
     "output_type": "stream",
     "text": [
      "[15 14 13 12 11]\n"
     ]
    }
   ],
   "source": [
    "result = array[-3, ::-1]\n",
    "print(result)"
   ]
  },
  {
   "cell_type": "markdown",
   "id": "758251a5",
   "metadata": {},
   "source": [
    "12. slicing array"
   ]
  },
  {
   "cell_type": "code",
   "execution_count": 72,
   "id": "9a29a538",
   "metadata": {},
   "outputs": [
    {
     "name": "stdout",
     "output_type": "stream",
     "text": [
      "[[ 7  8  9]\n",
      " [12 13 14]\n",
      " [17 18 19]]\n"
     ]
    }
   ],
   "source": [
    "result = array[1:4, 1:4]\n",
    "print(result)"
   ]
  },
  {
   "cell_type": "markdown",
   "id": "32129804",
   "metadata": {},
   "source": [
    "13. create numpy array 10x10 with random value"
   ]
  },
  {
   "cell_type": "code",
   "execution_count": 74,
   "id": "415a84cc",
   "metadata": {},
   "outputs": [
    {
     "name": "stdout",
     "output_type": "stream",
     "text": [
      "[[ 12  75  26  35  40   8  90  82  89  13]\n",
      " [ 79  38  50  22  37  54   0   1  16  75]\n",
      " [ 40  38  30  42  52  45   3  68  56  25]\n",
      " [ 26  59  62  33  24  49   8  69  83  90]\n",
      " [ 69   6   6  99  53  37  90  69  94  16]\n",
      " [ 97 100  37  83  34  80  74  44  10  13]\n",
      " [ 81  28  44  62  50   8  60  53  41  80]\n",
      " [ 16  12  37   3  72  31  57  90   7  64]\n",
      " [100  13  26  77  96  43  55  99  88  77]\n",
      " [ 25  22  26  64  90   0  21  43  63  58]]\n"
     ]
    }
   ],
   "source": [
    "random_array = np.random.randint(0, 101, size=(10, 10))\n",
    "print(random_array)"
   ]
  },
  {
   "cell_type": "markdown",
   "id": "d23d73fc",
   "metadata": {},
   "source": [
    "14. create two numpy array and multiply\n",
    "    - a : numpy array must range from 1-10\n",
    "    - b : numpy array must range from 11-20"
   ]
  },
  {
   "cell_type": "code",
   "execution_count": 88,
   "id": "c6107fc6",
   "metadata": {},
   "outputs": [
    {
     "name": "stdout",
     "output_type": "stream",
     "text": [
      "[[ 90  96 102]\n",
      " [216 231 246]\n",
      " [342 366 390]]\n"
     ]
    }
   ],
   "source": [
    "a = np.arange(1, 10).reshape(3,3)\n",
    "b = np.arange(11, 20).reshape(3,3) \n",
    "\n",
    "answer = np.dot(a, b)\n",
    "print(answer)"
   ]
  },
  {
   "cell_type": "markdown",
   "id": "b26dac0e",
   "metadata": {},
   "source": [
    "15. Create three dimension numpy array below"
   ]
  },
  {
   "cell_type": "code",
   "execution_count": 89,
   "id": "e4fdcf81",
   "metadata": {},
   "outputs": [
    {
     "data": {
      "text/plain": [
       "array([[[ 1,  2,  3],\n",
       "        [ 4,  5,  6]],\n",
       "\n",
       "       [[ 7,  8,  9],\n",
       "        [10, 11, 12]]])"
      ]
     },
     "execution_count": 89,
     "metadata": {},
     "output_type": "execute_result"
    }
   ],
   "source": [
    "np.array([[[1, 2, 3], [4, 5, 6]], [[7, 8, 9], [10, 11, 12]]])"
   ]
  }
 ],
 "metadata": {
  "kernelspec": {
   "display_name": "Python 3 (ipykernel)",
   "language": "python",
   "name": "python3"
  },
  "language_info": {
   "codemirror_mode": {
    "name": "ipython",
    "version": 3
   },
   "file_extension": ".py",
   "mimetype": "text/x-python",
   "name": "python",
   "nbconvert_exporter": "python",
   "pygments_lexer": "ipython3",
   "version": "3.11.5"
  }
 },
 "nbformat": 4,
 "nbformat_minor": 5
}
