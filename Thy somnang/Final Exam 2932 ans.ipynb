{
 "cells": [
  {
   "cell_type": "markdown",
   "id": "87058543",
   "metadata": {},
   "source": [
    "# Final Exam 29-32 Weekends"
   ]
  },
  {
   "cell_type": "markdown",
   "id": "f60eb306",
   "metadata": {},
   "source": [
    "1. write function to return two result of odd and even num of list below\n",
    "    - list of values from 20-100\n",
    "    - [2,4,6,8,9,10]\n",
    "    - [1,2,3,5,7,9]\n",
    "    - [0]\n",
    "    - [1]"
   ]
  },
  {
   "cell_type": "code",
   "execution_count": 1,
   "id": "29ee42b8",
   "metadata": {},
   "outputs": [],
   "source": [
    "def getOddEvenFromList(lst):\n",
    "    return"
   ]
  },
  {
   "cell_type": "markdown",
   "id": "c24fb1ef",
   "metadata": {},
   "source": [
    "2. write function to reverse string below\n",
    "    - James => semaJ\n",
    "    - Cambodia => aidobmaC\n",
    "    - National University of Management => tnemeganaM fo ytisrevinU lanoitaN"
   ]
  },
  {
   "cell_type": "code",
   "execution_count": 7,
   "id": "69eaf040",
   "metadata": {},
   "outputs": [],
   "source": [
    "def getReverseString(st):\n",
    "    return"
   ]
  },
  {
   "cell_type": "markdown",
   "id": "9d36b113",
   "metadata": {},
   "source": [
    "3. write function to generate list of value below\n",
    "    - All odd number from 20-100\n",
    "    - All Even number from 20-100\n",
    "    - All Prime number from 20-100\n",
    "    - All can divid by 5 from 20-100"
   ]
  },
  {
   "cell_type": "code",
   "execution_count": 8,
   "id": "8d087d84",
   "metadata": {},
   "outputs": [],
   "source": [
    "def doGenerateValues(lst):\n",
    "    return"
   ]
  },
  {
   "cell_type": "markdown",
   "id": "9e4d9ef8",
   "metadata": {},
   "source": [
    "4. write function to get middle of string and revease of length is even number\n",
    "    - ABCDEF => DC\n",
    "    - ABCDE => C"
   ]
  },
  {
   "cell_type": "code",
   "execution_count": 9,
   "id": "2506db04",
   "metadata": {},
   "outputs": [],
   "source": [
    "def getMiddleString(st):\n",
    "    return"
   ]
  },
  {
   "cell_type": "markdown",
   "id": "8caae9c4",
   "metadata": {},
   "source": [
    "5. write function to add value to middle of string if length of string is even and otherwise remove value in the middle\n",
    "    - NUM => NM\n",
    "    - NUME => NUAME"
   ]
  },
  {
   "cell_type": "code",
   "execution_count": 10,
   "id": "2052c8b6",
   "metadata": {},
   "outputs": [],
   "source": [
    "def addValueToMiddle(value):\n",
    "    return"
   ]
  },
  {
   "cell_type": "markdown",
   "id": "bf15ff32",
   "metadata": {},
   "source": [
    "# Working with Numpy Array"
   ]
  },
  {
   "cell_type": "markdown",
   "id": "d7333a33",
   "metadata": {},
   "source": [
    "1. create numpy array of 100 values with 0"
   ]
  },
  {
   "cell_type": "code",
   "execution_count": null,
   "id": "e966e321",
   "metadata": {},
   "outputs": [],
   "source": []
  },
  {
   "cell_type": "markdown",
   "id": "dd344cf9",
   "metadata": {},
   "source": [
    "2. create numpy array of 100 values with 1"
   ]
  },
  {
   "cell_type": "code",
   "execution_count": null,
   "id": "e451481a",
   "metadata": {},
   "outputs": [],
   "source": []
  },
  {
   "cell_type": "markdown",
   "id": "24822c16",
   "metadata": {},
   "source": [
    "3. create numpy array of 100 values with 7"
   ]
  },
  {
   "cell_type": "code",
   "execution_count": null,
   "id": "65626cea",
   "metadata": {},
   "outputs": [],
   "source": []
  },
  {
   "cell_type": "markdown",
   "id": "0a0265f3",
   "metadata": {},
   "source": [
    "4. create numpy array of value range from 20-100"
   ]
  },
  {
   "cell_type": "code",
   "execution_count": null,
   "id": "e03d818f",
   "metadata": {},
   "outputs": [],
   "source": []
  },
  {
   "cell_type": "markdown",
   "id": "49076e35",
   "metadata": {},
   "source": [
    "5. create numpy array of identity 5x5"
   ]
  },
  {
   "cell_type": "code",
   "execution_count": null,
   "id": "d247a568",
   "metadata": {},
   "outputs": [],
   "source": []
  },
  {
   "cell_type": "markdown",
   "id": "044cf10a",
   "metadata": {},
   "source": [
    "6. resahpe below array to 5x3"
   ]
  },
  {
   "cell_type": "code",
   "execution_count": 18,
   "id": "b88eb504",
   "metadata": {},
   "outputs": [
    {
     "name": "stdout",
     "output_type": "stream",
     "text": [
      "[ 0  1  2  3  4  5  6  7  8  9 10 11 12 13 14]\n"
     ]
    }
   ],
   "source": []
  },
  {
   "cell_type": "code",
   "execution_count": 23,
   "id": "35152096",
   "metadata": {},
   "outputs": [
    {
     "name": "stdout",
     "output_type": "stream",
     "text": [
      "[[ 0  1  2]\n",
      " [ 3  4  5]\n",
      " [ 6  7  8]\n",
      " [ 9 10 11]\n",
      " [12 13 14]]\n"
     ]
    }
   ],
   "source": []
  },
  {
   "cell_type": "markdown",
   "id": "faf1f747",
   "metadata": {},
   "source": [
    "7. slicing array"
   ]
  },
  {
   "cell_type": "code",
   "execution_count": 48,
   "id": "a7dcc989",
   "metadata": {},
   "outputs": [
    {
     "name": "stdout",
     "output_type": "stream",
     "text": [
      "[[ 1  2  3  4  5]\n",
      " [ 6  7  8  9 10]\n",
      " [11 12 13 14 15]\n",
      " [16 17 18 19 20]\n",
      " [21 22 23 24 25]]\n"
     ]
    }
   ],
   "source": []
  },
  {
   "cell_type": "markdown",
   "id": "65212746",
   "metadata": {},
   "source": [
    "8. slicing array"
   ]
  },
  {
   "cell_type": "code",
   "execution_count": 32,
   "id": "ad12e291",
   "metadata": {},
   "outputs": [
    {
     "data": {
      "text/plain": [
       "array([[ 2],\n",
       "       [ 7],\n",
       "       [12],\n",
       "       [17],\n",
       "       [22]])"
      ]
     },
     "execution_count": 32,
     "metadata": {},
     "output_type": "execute_result"
    }
   ],
   "source": []
  },
  {
   "cell_type": "markdown",
   "id": "bfed7fe0",
   "metadata": {},
   "source": [
    "9. slicing array"
   ]
  },
  {
   "cell_type": "code",
   "execution_count": 28,
   "id": "a802dc1b",
   "metadata": {},
   "outputs": [
    {
     "data": {
      "text/plain": [
       "array([[7, 8, 9]])"
      ]
     },
     "execution_count": 28,
     "metadata": {},
     "output_type": "execute_result"
    }
   ],
   "source": []
  },
  {
   "cell_type": "markdown",
   "id": "60afaa91",
   "metadata": {},
   "source": [
    "10. slicing array and transpose "
   ]
  },
  {
   "cell_type": "code",
   "execution_count": 31,
   "id": "da0c4ec6",
   "metadata": {},
   "outputs": [
    {
     "data": {
      "text/plain": [
       "array([[ 7, 12, 17]])"
      ]
     },
     "execution_count": 31,
     "metadata": {},
     "output_type": "execute_result"
    }
   ],
   "source": []
  },
  {
   "cell_type": "markdown",
   "id": "64b27594",
   "metadata": {},
   "source": [
    "11. slicing array and revease"
   ]
  },
  {
   "cell_type": "code",
   "execution_count": 53,
   "id": "effcd561",
   "metadata": {},
   "outputs": [
    {
     "data": {
      "text/plain": [
       "array([[15, 14, 13, 12, 11]])"
      ]
     },
     "execution_count": 53,
     "metadata": {},
     "output_type": "execute_result"
    }
   ],
   "source": []
  },
  {
   "cell_type": "markdown",
   "id": "758251a5",
   "metadata": {},
   "source": [
    "12. slicing array"
   ]
  },
  {
   "cell_type": "code",
   "execution_count": 54,
   "id": "9a29a538",
   "metadata": {},
   "outputs": [
    {
     "data": {
      "text/plain": [
       "array([[ 7,  8,  9],\n",
       "       [12, 13, 14],\n",
       "       [17, 18, 19]])"
      ]
     },
     "execution_count": 54,
     "metadata": {},
     "output_type": "execute_result"
    }
   ],
   "source": []
  },
  {
   "cell_type": "markdown",
   "id": "32129804",
   "metadata": {},
   "source": [
    "13. create numpy array 10x10 with random value"
   ]
  },
  {
   "cell_type": "code",
   "execution_count": 44,
   "id": "415a84cc",
   "metadata": {},
   "outputs": [
    {
     "name": "stdout",
     "output_type": "stream",
     "text": [
      "[[50. 54. 69. 85. 81. 46. 85. 70. 66. 84.]\n",
      " [28. 21. 78. 53.  4. 88. 30. 46.  6. 95.]\n",
      " [57. 85.  2. 87. 72.  2. 29. 38. 55. 88.]\n",
      " [15. 34. 25. 62. 68. 34. 59. 85. 38. 34.]\n",
      " [27.  8.  2. 42. 50. 19. 81. 50. 31. 78.]\n",
      " [54. 25. 15. 90. 75. 61. 32. 47. 52. 85.]\n",
      " [65. 88. 65. 88. 73. 23. 83. 64. 22. 58.]\n",
      " [31. 81. 39.  3. 79. 11. 80. 97. 46. 94.]\n",
      " [80. 90. 23.  4. 20. 85. 83. 91. 98. 88.]\n",
      " [ 9.  2. 30. 72. 70. 39. 24. 35. 15. 27.]]\n"
     ]
    }
   ],
   "source": []
  },
  {
   "cell_type": "markdown",
   "id": "d23d73fc",
   "metadata": {},
   "source": [
    "14. create two numpy array and multiply\n",
    "    - a : numpy array must range from 1-10\n",
    "    - b : numpy array must range from 11-20"
   ]
  },
  {
   "cell_type": "code",
   "execution_count": 40,
   "id": "c6107fc6",
   "metadata": {},
   "outputs": [
    {
     "name": "stdout",
     "output_type": "stream",
     "text": [
      "[[ 90  96 102]\n",
      " [216 231 246]\n",
      " [342 366 390]]\n"
     ]
    }
   ],
   "source": []
  },
  {
   "cell_type": "markdown",
   "id": "b26dac0e",
   "metadata": {},
   "source": [
    "15. Create three dimension numpy array below"
   ]
  },
  {
   "cell_type": "code",
   "execution_count": 35,
   "id": "e4fdcf81",
   "metadata": {},
   "outputs": [
    {
     "name": "stdout",
     "output_type": "stream",
     "text": [
      "[[[ 1  2  3]\n",
      "  [ 4  5  6]]\n",
      "\n",
      " [[ 7  8  9]\n",
      "  [10 11 12]]]\n"
     ]
    }
   ],
   "source": []
  }
 ],
 "metadata": {
  "kernelspec": {
   "display_name": "Python 3 (ipykernel)",
   "language": "python",
   "name": "python3"
  },
  "language_info": {
   "codemirror_mode": {
    "name": "ipython",
    "version": 3
   },
   "file_extension": ".py",
   "mimetype": "text/x-python",
   "name": "python",
   "nbconvert_exporter": "python",
   "pygments_lexer": "ipython3",
   "version": "3.9.12"
  }
 },
 "nbformat": 4,
 "nbformat_minor": 5
}
