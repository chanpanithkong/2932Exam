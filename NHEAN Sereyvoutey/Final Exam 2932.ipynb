{
 "cells": [
  {
   "cell_type": "markdown",
   "id": "87058543",
   "metadata": {},
   "source": [
    "# Final Exam 29-32 Weekends"
   ]
  },
  {
   "cell_type": "markdown",
   "id": "f60eb306",
   "metadata": {},
   "source": [
    "1. write function to return two result of odd and even num of list below\n",
    "    - list of values from 20-100\n",
    "    - [2,4,6,8,9,10]\n",
    "    - [1,2,3,5,7,9]\n",
    "    - [0]\n",
    "    - [1]"
   ]
  },
  {
   "cell_type": "code",
   "execution_count": 1,
   "id": "29ee42b8",
   "metadata": {},
   "outputs": [],
   "source": [
    "def getOddEvenFromList(lst):\n",
    "    return"
   ]
  },
  {
   "cell_type": "markdown",
   "id": "c24fb1ef",
   "metadata": {},
   "source": [
    "2. write function to reverse string below\n",
    "    - James => semaJ\n",
    "    - Cambodia => aidobmaC\n",
    "    - National University of Management => tnemeganaM fo ytisrevinU lanoitaN"
   ]
  },
  {
   "cell_type": "code",
   "execution_count": 41,
   "id": "69eaf040",
   "metadata": {},
   "outputs": [
    {
     "name": "stdout",
     "output_type": "stream",
     "text": [
      "James => James\n",
      "Cambodia => Cambodia\n",
      "National University of Management => tnemeganaM fo ytisrevinU lanoitaN\n"
     ]
    }
   ],
   "source": [
    "def getReverseString(st):\n",
    "    return st[::-1]\n",
    "print (\"James =>\" ,getReverseString(\"semaJ\"))\n",
    "print (\"Cambodia =>\" ,getReverseString(\"aidobmaC\"))\n",
    "print (\"National University of Management =>\" ,getReverseString(\"tnemeganaM fo ytisrevinU lanoitaN\"[::-1]))\n"
   ]
  },
  {
   "cell_type": "markdown",
   "id": "9d36b113",
   "metadata": {},
   "source": [
    "3. write function to generate list of value below\n",
    "    - All odd number from 20-100\n",
    "    - All Even number from 20-100\n",
    "    - All Prime number from 20-100\n",
    "    - All can divid by 5 from 20-100"
   ]
  },
  {
   "cell_type": "code",
   "execution_count": 8,
   "id": "8d087d84",
   "metadata": {},
   "outputs": [],
   "source": [
    "def doGenerateValues(lst):\n",
    "    return"
   ]
  },
  {
   "cell_type": "markdown",
   "id": "9e4d9ef8",
   "metadata": {},
   "source": [
    "4. write function to get middle of string and revease of length is even number\n",
    "    - ABCDEF => DC\n",
    "    - ABCDE => C"
   ]
  },
  {
   "cell_type": "code",
   "execution_count": null,
   "id": "573fc0ee",
   "metadata": {},
   "outputs": [],
   "source": []
  },
  {
   "cell_type": "markdown",
   "id": "8caae9c4",
   "metadata": {},
   "source": [
    "5. write function to add value to middle of string if length of string is even and otherwise remove value in the middle\n",
    "    - NUM => NM\n",
    "    - NUME => NUAME"
   ]
  },
  {
   "cell_type": "code",
   "execution_count": 10,
   "id": "2052c8b6",
   "metadata": {},
   "outputs": [],
   "source": [
    "def addValueToMiddle(value):\n",
    "    return"
   ]
  },
  {
   "cell_type": "markdown",
   "id": "bf15ff32",
   "metadata": {},
   "source": [
    "# Working with Numpy Array"
   ]
  },
  {
   "cell_type": "markdown",
   "id": "d7333a33",
   "metadata": {},
   "source": [
    "1. create numpy array of 100 values with 0"
   ]
  },
  {
   "cell_type": "code",
   "execution_count": 3,
   "id": "f65ab117",
   "metadata": {},
   "outputs": [],
   "source": [
    "import numpy as np\n",
    "import random as rd"
   ]
  },
  {
   "cell_type": "code",
   "execution_count": 4,
   "id": "e966e321",
   "metadata": {},
   "outputs": [
    {
     "name": "stdout",
     "output_type": "stream",
     "text": [
      "[[0. 0. 0. 0. 0. 0. 0. 0. 0. 0.]\n",
      " [0. 0. 0. 0. 0. 0. 0. 0. 0. 0.]\n",
      " [0. 0. 0. 0. 0. 0. 0. 0. 0. 0.]\n",
      " [0. 0. 0. 0. 0. 0. 0. 0. 0. 0.]\n",
      " [0. 0. 0. 0. 0. 0. 0. 0. 0. 0.]\n",
      " [0. 0. 0. 0. 0. 0. 0. 0. 0. 0.]\n",
      " [0. 0. 0. 0. 0. 0. 0. 0. 0. 0.]\n",
      " [0. 0. 0. 0. 0. 0. 0. 0. 0. 0.]\n",
      " [0. 0. 0. 0. 0. 0. 0. 0. 0. 0.]\n",
      " [0. 0. 0. 0. 0. 0. 0. 0. 0. 0.]]\n"
     ]
    }
   ],
   "source": [
    "y = np.zeros((10,10))\n",
    "print(y)"
   ]
  },
  {
   "cell_type": "markdown",
   "id": "dd344cf9",
   "metadata": {},
   "source": [
    "2. create numpy array of 100 values with 1"
   ]
  },
  {
   "cell_type": "code",
   "execution_count": 5,
   "id": "e451481a",
   "metadata": {},
   "outputs": [
    {
     "name": "stdout",
     "output_type": "stream",
     "text": [
      "[[1. 1. 1. 1. 1. 1. 1. 1. 1. 1.]\n",
      " [1. 1. 1. 1. 1. 1. 1. 1. 1. 1.]\n",
      " [1. 1. 1. 1. 1. 1. 1. 1. 1. 1.]\n",
      " [1. 1. 1. 1. 1. 1. 1. 1. 1. 1.]\n",
      " [1. 1. 1. 1. 1. 1. 1. 1. 1. 1.]\n",
      " [1. 1. 1. 1. 1. 1. 1. 1. 1. 1.]\n",
      " [1. 1. 1. 1. 1. 1. 1. 1. 1. 1.]\n",
      " [1. 1. 1. 1. 1. 1. 1. 1. 1. 1.]\n",
      " [1. 1. 1. 1. 1. 1. 1. 1. 1. 1.]\n",
      " [1. 1. 1. 1. 1. 1. 1. 1. 1. 1.]]\n"
     ]
    }
   ],
   "source": [
    "y = np.ones((10,10))\n",
    "print (y)"
   ]
  },
  {
   "cell_type": "markdown",
   "id": "24822c16",
   "metadata": {},
   "source": [
    "3. create numpy array of 100 values with 7"
   ]
  },
  {
   "cell_type": "code",
   "execution_count": 9,
   "id": "65626cea",
   "metadata": {},
   "outputs": [
    {
     "name": "stdout",
     "output_type": "stream",
     "text": [
      "[[7 7 7 7 7 7 7 7 7 7]\n",
      " [7 7 7 7 7 7 7 7 7 7]\n",
      " [7 7 7 7 7 7 7 7 7 7]\n",
      " [7 7 7 7 7 7 7 7 7 7]\n",
      " [7 7 7 7 7 7 7 7 7 7]\n",
      " [7 7 7 7 7 7 7 7 7 7]\n",
      " [7 7 7 7 7 7 7 7 7 7]\n",
      " [7 7 7 7 7 7 7 7 7 7]\n",
      " [7 7 7 7 7 7 7 7 7 7]\n",
      " [7 7 7 7 7 7 7 7 7 7]]\n"
     ]
    }
   ],
   "source": [
    "y = np.full((10,10),7)\n",
    "print (y)"
   ]
  },
  {
   "cell_type": "markdown",
   "id": "0a0265f3",
   "metadata": {},
   "source": [
    "4. create numpy array of value range from 20-100"
   ]
  },
  {
   "cell_type": "code",
   "execution_count": 11,
   "id": "e03d818f",
   "metadata": {},
   "outputs": [
    {
     "name": "stdout",
     "output_type": "stream",
     "text": [
      "[ 20  21  22  23  24  25  26  27  28  29  30  31  32  33  34  35  36  37\n",
      "  38  39  40  41  42  43  44  45  46  47  48  49  50  51  52  53  54  55\n",
      "  56  57  58  59  60  61  62  63  64  65  66  67  68  69  70  71  72  73\n",
      "  74  75  76  77  78  79  80  81  82  83  84  85  86  87  88  89  90  91\n",
      "  92  93  94  95  96  97  98  99 100]\n"
     ]
    }
   ],
   "source": [
    "y = np.arange(20,101)\n",
    "print(y)"
   ]
  },
  {
   "cell_type": "markdown",
   "id": "49076e35",
   "metadata": {},
   "source": [
    "5. create numpy array of identity 5x5"
   ]
  },
  {
   "cell_type": "code",
   "execution_count": null,
   "id": "dc043e16",
   "metadata": {},
   "outputs": [],
   "source": []
  },
  {
   "cell_type": "markdown",
   "id": "044cf10a",
   "metadata": {},
   "source": [
    "6. resahpe below array to 5x3"
   ]
  },
  {
   "cell_type": "code",
   "execution_count": 18,
   "id": "b88eb504",
   "metadata": {},
   "outputs": [
    {
     "name": "stdout",
     "output_type": "stream",
     "text": [
      "[ 0  1  2  3  4  5  6  7  8  9 10 11 12 13 14]\n"
     ]
    }
   ],
   "source": []
  },
  {
   "cell_type": "code",
   "execution_count": 12,
   "id": "748757d1",
   "metadata": {},
   "outputs": [
    {
     "name": "stdout",
     "output_type": "stream",
     "text": [
      "[ 0  1  2  3  4  5  6  7  8  9 10 11 12 13 14]\n"
     ]
    }
   ],
   "source": [
    "a = np.arange(0,15)\n",
    "print (a)"
   ]
  },
  {
   "cell_type": "code",
   "execution_count": 15,
   "id": "9672e953",
   "metadata": {},
   "outputs": [
    {
     "name": "stdout",
     "output_type": "stream",
     "text": [
      "[[ 0  1  2]\n",
      " [ 3  4  5]\n",
      " [ 6  7  8]\n",
      " [ 9 10 11]\n",
      " [12 13 14]]\n"
     ]
    }
   ],
   "source": [
    "b = a.reshape((5,3))\n",
    "print (b)"
   ]
  },
  {
   "cell_type": "code",
   "execution_count": 23,
   "id": "35152096",
   "metadata": {},
   "outputs": [
    {
     "name": "stdout",
     "output_type": "stream",
     "text": [
      "[[ 0  1  2]\n",
      " [ 3  4  5]\n",
      " [ 6  7  8]\n",
      " [ 9 10 11]\n",
      " [12 13 14]]\n"
     ]
    }
   ],
   "source": []
  },
  {
   "cell_type": "markdown",
   "id": "faf1f747",
   "metadata": {},
   "source": [
    "7. slicing array"
   ]
  },
  {
   "cell_type": "code",
   "execution_count": 48,
   "id": "a7dcc989",
   "metadata": {},
   "outputs": [
    {
     "name": "stdout",
     "output_type": "stream",
     "text": [
      "[[ 1  2  3  4  5]\n",
      " [ 6  7  8  9 10]\n",
      " [11 12 13 14 15]\n",
      " [16 17 18 19 20]\n",
      " [21 22 23 24 25]]\n"
     ]
    }
   ],
   "source": []
  },
  {
   "cell_type": "code",
   "execution_count": 21,
   "id": "9d75eb29",
   "metadata": {},
   "outputs": [],
   "source": [
    "x = np.arange(1,26)\n"
   ]
  },
  {
   "cell_type": "code",
   "execution_count": 22,
   "id": "41a92fc6",
   "metadata": {},
   "outputs": [
    {
     "name": "stdout",
     "output_type": "stream",
     "text": [
      "[[ 1  2  3  4  5]\n",
      " [ 6  7  8  9 10]\n",
      " [11 12 13 14 15]\n",
      " [16 17 18 19 20]\n",
      " [21 22 23 24 25]]\n"
     ]
    }
   ],
   "source": [
    "y = x.reshape((5,5))\n",
    "print(y)"
   ]
  },
  {
   "cell_type": "markdown",
   "id": "65212746",
   "metadata": {},
   "source": [
    "8. slicing array"
   ]
  },
  {
   "cell_type": "code",
   "execution_count": 32,
   "id": "ad12e291",
   "metadata": {},
   "outputs": [
    {
     "data": {
      "text/plain": [
       "array([[ 2],\n",
       "       [ 7],\n",
       "       [12],\n",
       "       [17],\n",
       "       [22]])"
      ]
     },
     "execution_count": 32,
     "metadata": {},
     "output_type": "execute_result"
    }
   ],
   "source": []
  },
  {
   "cell_type": "code",
   "execution_count": 26,
   "id": "1a1e08f3",
   "metadata": {},
   "outputs": [],
   "source": [
    "a = np.reshape(np.arange(1,26), (5,5))"
   ]
  },
  {
   "cell_type": "code",
   "execution_count": 27,
   "id": "7b84cac7",
   "metadata": {},
   "outputs": [
    {
     "data": {
      "text/plain": [
       "array([[ 2],\n",
       "       [ 7],\n",
       "       [12],\n",
       "       [17],\n",
       "       [22]])"
      ]
     },
     "execution_count": 27,
     "metadata": {},
     "output_type": "execute_result"
    }
   ],
   "source": [
    "a[:,1:2]"
   ]
  },
  {
   "cell_type": "markdown",
   "id": "bfed7fe0",
   "metadata": {},
   "source": [
    "9. slicing array"
   ]
  },
  {
   "cell_type": "code",
   "execution_count": 28,
   "id": "a802dc1b",
   "metadata": {},
   "outputs": [
    {
     "data": {
      "text/plain": [
       "array([[7, 8, 9]])"
      ]
     },
     "execution_count": 28,
     "metadata": {},
     "output_type": "execute_result"
    }
   ],
   "source": []
  },
  {
   "cell_type": "code",
   "execution_count": 28,
   "id": "044f67ed",
   "metadata": {},
   "outputs": [
    {
     "data": {
      "text/plain": [
       "array([[7, 8, 9]])"
      ]
     },
     "execution_count": 28,
     "metadata": {},
     "output_type": "execute_result"
    }
   ],
   "source": [
    "a[1:2,1:4]"
   ]
  },
  {
   "cell_type": "markdown",
   "id": "60afaa91",
   "metadata": {},
   "source": [
    "10. slicing array and transpose "
   ]
  },
  {
   "cell_type": "markdown",
   "id": "64b27594",
   "metadata": {},
   "source": [
    "11. slicing array and revease"
   ]
  },
  {
   "cell_type": "code",
   "execution_count": 53,
   "id": "effcd561",
   "metadata": {},
   "outputs": [
    {
     "data": {
      "text/plain": [
       "array([[15, 14, 13, 12, 11]])"
      ]
     },
     "execution_count": 53,
     "metadata": {},
     "output_type": "execute_result"
    }
   ],
   "source": []
  },
  {
   "cell_type": "code",
   "execution_count": 32,
   "id": "07e64bc1",
   "metadata": {},
   "outputs": [
    {
     "data": {
      "text/plain": [
       "array([15, 14, 13, 12, 11])"
      ]
     },
     "execution_count": 32,
     "metadata": {},
     "output_type": "execute_result"
    }
   ],
   "source": [
    "a[2][::-1]"
   ]
  },
  {
   "cell_type": "markdown",
   "id": "758251a5",
   "metadata": {},
   "source": [
    "12. slicing array"
   ]
  },
  {
   "cell_type": "code",
   "execution_count": 54,
   "id": "9a29a538",
   "metadata": {},
   "outputs": [
    {
     "data": {
      "text/plain": [
       "array([[ 7,  8,  9],\n",
       "       [12, 13, 14],\n",
       "       [17, 18, 19]])"
      ]
     },
     "execution_count": 54,
     "metadata": {},
     "output_type": "execute_result"
    }
   ],
   "source": []
  },
  {
   "cell_type": "code",
   "execution_count": 33,
   "id": "7fc58f9e",
   "metadata": {},
   "outputs": [
    {
     "data": {
      "text/plain": [
       "array([[ 7,  8,  9],\n",
       "       [12, 13, 14],\n",
       "       [17, 18, 19]])"
      ]
     },
     "execution_count": 33,
     "metadata": {},
     "output_type": "execute_result"
    }
   ],
   "source": [
    "a[1:4,1:4]"
   ]
  },
  {
   "cell_type": "markdown",
   "id": "32129804",
   "metadata": {},
   "source": [
    "13. create numpy array 10x10 with random value"
   ]
  },
  {
   "cell_type": "code",
   "execution_count": 44,
   "id": "415a84cc",
   "metadata": {},
   "outputs": [
    {
     "name": "stdout",
     "output_type": "stream",
     "text": [
      "[[50. 54. 69. 85. 81. 46. 85. 70. 66. 84.]\n",
      " [28. 21. 78. 53.  4. 88. 30. 46.  6. 95.]\n",
      " [57. 85.  2. 87. 72.  2. 29. 38. 55. 88.]\n",
      " [15. 34. 25. 62. 68. 34. 59. 85. 38. 34.]\n",
      " [27.  8.  2. 42. 50. 19. 81. 50. 31. 78.]\n",
      " [54. 25. 15. 90. 75. 61. 32. 47. 52. 85.]\n",
      " [65. 88. 65. 88. 73. 23. 83. 64. 22. 58.]\n",
      " [31. 81. 39.  3. 79. 11. 80. 97. 46. 94.]\n",
      " [80. 90. 23.  4. 20. 85. 83. 91. 98. 88.]\n",
      " [ 9.  2. 30. 72. 70. 39. 24. 35. 15. 27.]]\n"
     ]
    }
   ],
   "source": []
  },
  {
   "cell_type": "code",
   "execution_count": 35,
   "id": "7c6be0a7",
   "metadata": {},
   "outputs": [
    {
     "data": {
      "text/plain": [
       "array([[38., 71., 34., 32., 65., 24., 44., 36., 42., 57.],\n",
       "       [ 6., 89., 48., 67., 83., 10., 56., 19., 31., 80.],\n",
       "       [85., 65., 48., 24., 18., 38., 56., 88., 51., 14.],\n",
       "       [43.,  8., 86., 80., 22., 23., 67., 41., 46., 44.],\n",
       "       [ 5., 72., 61., 43., 42., 17., 92., 73., 99., 34.],\n",
       "       [23., 30., 66., 60.,  6.,  2., 52., 34., 57., 70.],\n",
       "       [94., 28., 64., 87., 52., 74., 54., 80., 29., 79.],\n",
       "       [26.,  1., 90.,  7., 11., 78., 19., 53.,  8., 74.],\n",
       "       [46.,  1., 89., 81., 76., 66., 18., 81., 13., 43.],\n",
       "       [71., 17., 25., 73., 11., 90., 77., 82., 60., 88.]])"
      ]
     },
     "execution_count": 35,
     "metadata": {},
     "output_type": "execute_result"
    }
   ],
   "source": [
    "np.floor(100*np.random.random((10,10)))"
   ]
  },
  {
   "cell_type": "markdown",
   "id": "d23d73fc",
   "metadata": {},
   "source": [
    "14. create two numpy array and multiply\n",
    "    - a : numpy array must range from 1-10\n",
    "    - b : numpy array must range from 11-20"
   ]
  },
  {
   "cell_type": "code",
   "execution_count": 40,
   "id": "c6107fc6",
   "metadata": {},
   "outputs": [
    {
     "name": "stdout",
     "output_type": "stream",
     "text": [
      "[[ 90  96 102]\n",
      " [216 231 246]\n",
      " [342 366 390]]\n"
     ]
    }
   ],
   "source": []
  },
  {
   "cell_type": "code",
   "execution_count": 37,
   "id": "90254da6",
   "metadata": {},
   "outputs": [
    {
     "data": {
      "text/plain": [
       "array([[ 90,  96, 102],\n",
       "       [216, 231, 246],\n",
       "       [342, 366, 390]])"
      ]
     },
     "execution_count": 37,
     "metadata": {},
     "output_type": "execute_result"
    }
   ],
   "source": [
    "d = np.reshape(np.arange(1,10),(3,3))\n",
    "e = np.reshape(np.arange(11,20),(3,3))\n",
    "np.dot(d,e)"
   ]
  },
  {
   "cell_type": "markdown",
   "id": "b26dac0e",
   "metadata": {},
   "source": [
    "15. Create three dimension numpy array below"
   ]
  },
  {
   "cell_type": "code",
   "execution_count": 35,
   "id": "e4fdcf81",
   "metadata": {},
   "outputs": [
    {
     "name": "stdout",
     "output_type": "stream",
     "text": [
      "[[[ 1  2  3]\n",
      "  [ 4  5  6]]\n",
      "\n",
      " [[ 7  8  9]\n",
      "  [10 11 12]]]\n"
     ]
    }
   ],
   "source": []
  },
  {
   "cell_type": "code",
   "execution_count": 34,
   "id": "c662a47f",
   "metadata": {},
   "outputs": [
    {
     "name": "stdout",
     "output_type": "stream",
     "text": [
      "[[[ 1  2  3]\n",
      "  [ 4  5  6]]\n",
      "\n",
      " [[ 7  8  9]\n",
      "  [10 11 12]]]\n"
     ]
    }
   ],
   "source": [
    "y = np.array([\n",
    "    [[1,2,3],[4,5,6]],\n",
    "    [[7,8,9],[10,11,12]],\n",
    "    ])\n",
    "print (y)"
   ]
  }
 ],
 "metadata": {
  "kernelspec": {
   "display_name": "Python 3 (ipykernel)",
   "language": "python",
   "name": "python3"
  },
  "language_info": {
   "codemirror_mode": {
    "name": "ipython",
    "version": 3
   },
   "file_extension": ".py",
   "mimetype": "text/x-python",
   "name": "python",
   "nbconvert_exporter": "python",
   "pygments_lexer": "ipython3",
   "version": "3.11.5"
  }
 },
 "nbformat": 4,
 "nbformat_minor": 5
}
